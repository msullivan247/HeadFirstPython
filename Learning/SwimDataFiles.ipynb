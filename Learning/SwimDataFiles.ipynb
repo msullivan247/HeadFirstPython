{
 "cells": [
  {
   "cell_type": "code",
   "execution_count": 2,
   "metadata": {},
   "outputs": [],
   "source": [
    "folder = 'swimdata/'"
   ]
  },
  {
   "cell_type": "code",
   "execution_count": 5,
   "metadata": {},
   "outputs": [],
   "source": [
    "import math\n",
    "\n",
    "def formatSwimTime(totalSeconds):\n",
    "    minutes = math.floor(totalSeconds / 60)\n",
    "    seconds = totalSeconds % 60\n",
    "    return (\"%d:%.2f\" % (minutes, seconds))"
   ]
  },
  {
   "cell_type": "code",
   "execution_count": 1,
   "metadata": {},
   "outputs": [],
   "source": [
    "def getSeconds(timeString):\n",
    "    minutes, seconds = timeString.split(\":\")\n",
    "    return int(minutes) * 60 + float(seconds)"
   ]
  },
  {
   "cell_type": "code",
   "execution_count": 11,
   "metadata": {},
   "outputs": [],
   "source": [
    "import statistics\n",
    "\n",
    "def processSwimData(fileName):\n",
    "    name, ageGroup, distance, stroke = fileName.removesuffix(\".txt\").split(\"-\")\n",
    "    with open(folder + fileName) as file:\n",
    "        lines = file.readlines()\n",
    "        timesStrings = lines[0].strip().split(\",\")\n",
    "        times = [getSeconds(time) for time in timesStrings]\n",
    "        averageTime = statistics.mean(times)\n",
    "        print(f\"Swimmer: {name}\\nAge Group: {ageGroup}\\nDistance: {distance}\\nStroke: {stroke}\\nTimes: {timesStrings}\\nAverage Time: {formatSwimTime(averageTime)}\")"
   ]
  },
  {
   "cell_type": "code",
   "execution_count": 10,
   "metadata": {},
   "outputs": [
    {
     "name": "stdout",
     "output_type": "stream",
     "text": [
      "Swimmer: Abi\n",
      "Age Group: 10\n",
      "Distance: 100m\n",
      "Stroke: Back\n",
      "Times: ['1:31.59', '1:26.55', '1:28.75', '1:39.79', '1:32.37']\n",
      "Average Time: 1:31.81\n"
     ]
    }
   ],
   "source": [
    "processSwimData(\"Abi-10-100m-Back.txt\")"
   ]
  },
  {
   "cell_type": "code",
   "execution_count": null,
   "metadata": {},
   "outputs": [],
   "source": []
  }
 ],
 "metadata": {
  "kernelspec": {
   "display_name": "Python 3",
   "language": "python",
   "name": "python3"
  },
  "language_info": {
   "codemirror_mode": {
    "name": "ipython",
    "version": 3
   },
   "file_extension": ".py",
   "mimetype": "text/x-python",
   "name": "python",
   "nbconvert_exporter": "python",
   "pygments_lexer": "ipython3",
   "version": "3.11.5"
  },
  "orig_nbformat": 4
 },
 "nbformat": 4,
 "nbformat_minor": 2
}
